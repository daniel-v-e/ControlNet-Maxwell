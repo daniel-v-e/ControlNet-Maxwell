{
 "cells": [
  {
   "cell_type": "code",
   "execution_count": 1,
   "metadata": {},
   "outputs": [
    {
     "name": "stdout",
     "output_type": "stream",
     "text": [
      "-----------\n",
      "Initializing structure...\n",
      "time for choose_chunkdivision = 2.7895e-05 s\n",
      "Working in 3D dimensions.\n",
      "Computational cell is 8 x 8 x 8 with resolution 16\n",
      "     block, center = (0,0,0)\n",
      "          size (5,5,5)\n",
      "          axes (1,0,0), (0,1,0), (0,0,1)\n",
      "          dielectric constant epsilon diagonal = (1,1,1)\n",
      "time for set_epsilon = 4.02857 s\n",
      "time for set_conductivity = 0.0713871 s\n",
      "time for set_conductivity = 0.070893 s\n",
      "time for set_conductivity = 0.0713201 s\n",
      "-----------\n",
      "Meep progress: 8.0625/100.0 = 8.1% done in 4.0s, 45.7s to go\n",
      "on time step 258 (time=8.0625), 0.0155355 s/step\n",
      "Meep progress: 16.46875/100.0 = 16.5% done in 8.0s, 40.7s to go\n",
      "on time step 527 (time=16.4688), 0.0149217 s/step\n",
      "Meep progress: 24.53125/100.0 = 24.5% done in 12.0s, 37.0s to go\n",
      "on time step 785 (time=24.5312), 0.015548 s/step\n",
      "Meep progress: 32.96875/100.0 = 33.0% done in 16.0s, 32.6s to go\n",
      "on time step 1055 (time=32.9688), 0.0148455 s/step\n",
      "Meep progress: 41.34375/100.0 = 41.3% done in 20.1s, 28.5s to go\n",
      "on time step 1323 (time=41.3438), 0.0149832 s/step\n",
      "Meep progress: 49.71875/100.0 = 49.7% done in 24.1s, 24.3s to go\n",
      "on time step 1591 (time=49.7188), 0.0149382 s/step\n",
      "Meep progress: 58.15625/100.0 = 58.2% done in 28.1s, 20.2s to go\n",
      "on time step 1861 (time=58.1562), 0.0148305 s/step\n",
      "Meep progress: 66.59375/100.0 = 66.6% done in 32.1s, 16.1s to go\n",
      "on time step 2131 (time=66.5938), 0.0148321 s/step\n",
      "Meep progress: 74.96875/100.0 = 75.0% done in 36.1s, 12.0s to go\n",
      "on time step 2399 (time=74.9688), 0.0149377 s/step\n",
      "Meep progress: 83.375/100.0 = 83.4% done in 40.1s, 8.0s to go\n",
      "on time step 2668 (time=83.375), 0.014893 s/step\n",
      "Meep progress: 91.78125/100.0 = 91.8% done in 44.1s, 3.9s to go\n",
      "on time step 2937 (time=91.7812), 0.0149061 s/step\n",
      "run 0 finished at t = 100.0 (3200 timesteps)\n"
     ]
    }
   ],
   "source": [
    "import meep as mp\n",
    "\n",
    "# Simulation cell size\n",
    "cell_size = mp.Vector3(8, 8, 8)\n",
    "\n",
    "# PEC properties\n",
    "pec_conductivity = 1e7  \n",
    "pec = mp.Medium(epsilon=1, D_conductivity=pec_conductivity)  \n",
    "\n",
    "# PEC cube\n",
    "cube = mp.Block(mp.Vector3(5, 5, 5), center=mp.Vector3(), material=pec)\n",
    "\n",
    "# Source\n",
    "frequency = 2.4e9  \n",
    "src = [mp.Source(\n",
    "    src       = mp.ContinuousSource(frequency=frequency),\n",
    "    component = mp.Ex,\n",
    "    center    = mp.Vector3(0, 0, 0)\n",
    ")]\n",
    "\n",
    "# Simulation\n",
    "sim = mp.Simulation(\n",
    "    cell_size  = cell_size,\n",
    "    geometry   = [cube],\n",
    "    sources    = src,\n",
    "    resolution = 16\n",
    ")\n",
    "\n",
    "# Run simulation for a time to reach steady state\n",
    "sim.run(until=100)\n",
    "\n",
    "# Calculate E-field\n",
    "E_field = sim.get_array(center=mp.Vector3(), size=cell_size, component=mp.Ex)"
   ]
  },
  {
   "cell_type": "code",
   "execution_count": 2,
   "metadata": {},
   "outputs": [
    {
     "ename": "RuntimeError",
     "evalue": "Could not import backend \"jupyter_rfb\":\nThe jupyter_rfb backend relies on a the jupyter_rfb library: ``pip install jupyter_rfb``",
     "output_type": "error",
     "traceback": [
      "\u001b[0;31m---------------------------------------------------------------------------\u001b[0m",
      "\u001b[0;31mRuntimeError\u001b[0m                              Traceback (most recent call last)",
      "Cell \u001b[0;32mIn[2], line 1\u001b[0m\n\u001b[0;32m----> 1\u001b[0m sim\u001b[39m.\u001b[39;49mplot3D()\n",
      "File \u001b[0;32m/opt/anaconda3/envs/mp/lib/python3.11/site-packages/meep/simulation.py:4908\u001b[0m, in \u001b[0;36mSimulation.plot3D\u001b[0;34m(self, save_to_image, image_name, **kwargs)\u001b[0m\n\u001b[1;32m   4893\u001b[0m \u001b[39m\u001b[39m\u001b[39m\"\"\"\u001b[39;00m\n\u001b[1;32m   4894\u001b[0m \u001b[39mUses vispy to render a 3D scene of the simulation object. The simulation object must be 3D.\u001b[39;00m\n\u001b[1;32m   4895\u001b[0m \u001b[39mCan also be embedded in Jupyter notebooks.\u001b[39;00m\n\u001b[0;32m   (...)\u001b[0m\n\u001b[1;32m   4904\u001b[0m \u001b[39m    elevation: float, elevation angle in degrees\u001b[39;00m\n\u001b[1;32m   4905\u001b[0m \u001b[39m\"\"\"\u001b[39;00m\n\u001b[1;32m   4906\u001b[0m \u001b[39mimport\u001b[39;00m \u001b[39mmeep\u001b[39;00m\u001b[39m.\u001b[39;00m\u001b[39mvisualization\u001b[39;00m \u001b[39mas\u001b[39;00m \u001b[39mvis\u001b[39;00m\n\u001b[0;32m-> 4908\u001b[0m \u001b[39mreturn\u001b[39;00m vis\u001b[39m.\u001b[39;49mplot3D(\u001b[39mself\u001b[39;49m, save_to_image, image_name, \u001b[39m*\u001b[39;49m\u001b[39m*\u001b[39;49mkwargs)\n",
      "File \u001b[0;32m/opt/anaconda3/envs/mp/lib/python3.11/site-packages/meep/visualization.py:1007\u001b[0m, in \u001b[0;36mplot3D\u001b[0;34m(sim, save_to_image, image_name, **kwargs)\u001b[0m\n\u001b[1;32m   1004\u001b[0m \u001b[39mfrom\u001b[39;00m \u001b[39mvispy\u001b[39;00m\u001b[39m.\u001b[39;00m\u001b[39mvisuals\u001b[39;00m\u001b[39m.\u001b[39;00m\u001b[39mfilters\u001b[39;00m \u001b[39mimport\u001b[39;00m ShadingFilter\n\u001b[1;32m   1006\u001b[0m \u001b[39m# Set canvas\u001b[39;00m\n\u001b[0;32m-> 1007\u001b[0m canvas \u001b[39m=\u001b[39m SceneCanvas(keys\u001b[39m=\u001b[39;49m\u001b[39m\"\u001b[39;49m\u001b[39minteractive\u001b[39;49m\u001b[39m\"\u001b[39;49m, bgcolor\u001b[39m=\u001b[39;49m\u001b[39m\"\u001b[39;49m\u001b[39mwhite\u001b[39;49m\u001b[39m\"\u001b[39;49m)\n\u001b[1;32m   1009\u001b[0m view \u001b[39m=\u001b[39m canvas\u001b[39m.\u001b[39mcentral_widget\u001b[39m.\u001b[39madd_view()\n\u001b[1;32m   1010\u001b[0m view\u001b[39m.\u001b[39mcamera \u001b[39m=\u001b[39m \u001b[39m\"\u001b[39m\u001b[39mturntable\u001b[39m\u001b[39m\"\u001b[39m\n",
      "File \u001b[0;32m/opt/anaconda3/envs/mp/lib/python3.11/site-packages/vispy/scene/canvas.py:135\u001b[0m, in \u001b[0;36mSceneCanvas.__init__\u001b[0;34m(self, title, size, position, show, autoswap, app, create_native, vsync, resizable, decorate, fullscreen, config, shared, keys, parent, dpi, always_on_top, px_scale, bgcolor)\u001b[0m\n\u001b[1;32m    130\u001b[0m \u001b[39m# Set to True to enable sending mouse events even when no button is\u001b[39;00m\n\u001b[1;32m    131\u001b[0m \u001b[39m# pressed. Disabled by default because it is very expensive. Also\u001b[39;00m\n\u001b[1;32m    132\u001b[0m \u001b[39m# private for now because this behavior / API needs more thought.\u001b[39;00m\n\u001b[1;32m    133\u001b[0m \u001b[39mself\u001b[39m\u001b[39m.\u001b[39m_send_hover_events \u001b[39m=\u001b[39m \u001b[39mFalse\u001b[39;00m\n\u001b[0;32m--> 135\u001b[0m \u001b[39msuper\u001b[39;49m(SceneCanvas, \u001b[39mself\u001b[39;49m)\u001b[39m.\u001b[39;49m\u001b[39m__init__\u001b[39;49m(\n\u001b[1;32m    136\u001b[0m     title, size, position, show, autoswap, app, create_native, vsync,\n\u001b[1;32m    137\u001b[0m     resizable, decorate, fullscreen, config, shared, keys, parent, dpi,\n\u001b[1;32m    138\u001b[0m     always_on_top, px_scale)\n\u001b[1;32m    139\u001b[0m \u001b[39mself\u001b[39m\u001b[39m.\u001b[39mevents\u001b[39m.\u001b[39mmouse_press\u001b[39m.\u001b[39mconnect(\u001b[39mself\u001b[39m\u001b[39m.\u001b[39m_process_mouse_event)\n\u001b[1;32m    140\u001b[0m \u001b[39mself\u001b[39m\u001b[39m.\u001b[39mevents\u001b[39m.\u001b[39mmouse_move\u001b[39m.\u001b[39mconnect(\u001b[39mself\u001b[39m\u001b[39m.\u001b[39m_process_mouse_event)\n",
      "File \u001b[0;32m/opt/anaconda3/envs/mp/lib/python3.11/site-packages/vispy/app/canvas.py:173\u001b[0m, in \u001b[0;36mCanvas.__init__\u001b[0;34m(self, title, size, position, show, autoswap, app, create_native, vsync, resizable, decorate, fullscreen, config, shared, keys, parent, dpi, always_on_top, px_scale, backend_kwargs)\u001b[0m\n\u001b[1;32m    171\u001b[0m \u001b[39m# Get app instance\u001b[39;00m\n\u001b[1;32m    172\u001b[0m \u001b[39mif\u001b[39;00m app \u001b[39mis\u001b[39;00m \u001b[39mNone\u001b[39;00m:\n\u001b[0;32m--> 173\u001b[0m     \u001b[39mself\u001b[39m\u001b[39m.\u001b[39m_app \u001b[39m=\u001b[39m use_app(call_reuse\u001b[39m=\u001b[39;49m\u001b[39mFalse\u001b[39;49;00m)\n\u001b[1;32m    174\u001b[0m \u001b[39melif\u001b[39;00m \u001b[39misinstance\u001b[39m(app, Application):\n\u001b[1;32m    175\u001b[0m     \u001b[39mself\u001b[39m\u001b[39m.\u001b[39m_app \u001b[39m=\u001b[39m app\n",
      "File \u001b[0;32m/opt/anaconda3/envs/mp/lib/python3.11/site-packages/vispy/app/_default_app.py:47\u001b[0m, in \u001b[0;36muse_app\u001b[0;34m(backend_name, call_reuse)\u001b[0m\n\u001b[1;32m     44\u001b[0m         \u001b[39mreturn\u001b[39;00m default_app  \u001b[39m# Current backend matches backend_name\u001b[39;00m\n\u001b[1;32m     46\u001b[0m \u001b[39m# Create default app\u001b[39;00m\n\u001b[0;32m---> 47\u001b[0m default_app \u001b[39m=\u001b[39m Application(backend_name)\n\u001b[1;32m     48\u001b[0m \u001b[39mreturn\u001b[39;00m default_app\n",
      "File \u001b[0;32m/opt/anaconda3/envs/mp/lib/python3.11/site-packages/vispy/app/application.py:47\u001b[0m, in \u001b[0;36mApplication.__init__\u001b[0;34m(self, backend_name)\u001b[0m\n\u001b[1;32m     45\u001b[0m \u001b[39mself\u001b[39m\u001b[39m.\u001b[39m_backend_module \u001b[39m=\u001b[39m \u001b[39mNone\u001b[39;00m\n\u001b[1;32m     46\u001b[0m \u001b[39mself\u001b[39m\u001b[39m.\u001b[39m_backend \u001b[39m=\u001b[39m \u001b[39mNone\u001b[39;00m\n\u001b[0;32m---> 47\u001b[0m \u001b[39mself\u001b[39;49m\u001b[39m.\u001b[39;49m_use(backend_name)\n",
      "File \u001b[0;32m/opt/anaconda3/envs/mp/lib/python3.11/site-packages/vispy/app/application.py:240\u001b[0m, in \u001b[0;36mApplication._use\u001b[0;34m(self, backend_name)\u001b[0m\n\u001b[1;32m    236\u001b[0m msg \u001b[39m=\u001b[39m (\u001b[39m'\u001b[39m\u001b[39mCould not import backend \u001b[39m\u001b[39m\"\u001b[39m\u001b[39m%s\u001b[39;00m\u001b[39m\"\u001b[39m\u001b[39m:\u001b[39m\u001b[39m\\n\u001b[39;00m\u001b[39m%s\u001b[39;00m\u001b[39m'\u001b[39m\n\u001b[1;32m    237\u001b[0m        \u001b[39m%\u001b[39m (name, \u001b[39mstr\u001b[39m(mod\u001b[39m.\u001b[39mwhy_not)))\n\u001b[1;32m    238\u001b[0m \u001b[39mif\u001b[39;00m \u001b[39mnot\u001b[39;00m try_others:\n\u001b[1;32m    239\u001b[0m     \u001b[39m# Fail if user wanted to use a specific backend\u001b[39;00m\n\u001b[0;32m--> 240\u001b[0m     \u001b[39mraise\u001b[39;00m \u001b[39mRuntimeError\u001b[39;00m(msg)\n\u001b[1;32m    241\u001b[0m \u001b[39melif\u001b[39;00m key \u001b[39min\u001b[39;00m imported_toolkits:\n\u001b[1;32m    242\u001b[0m     \u001b[39m# Warn if were unable to use an already imported toolkit\u001b[39;00m\n\u001b[1;32m    243\u001b[0m     msg \u001b[39m=\u001b[39m (\u001b[39m'\u001b[39m\u001b[39mAlthough \u001b[39m\u001b[39m%s\u001b[39;00m\u001b[39m is already imported, the \u001b[39m\u001b[39m%s\u001b[39;00m\u001b[39m backend \u001b[39m\u001b[39m'\u001b[39m\n\u001b[1;32m    244\u001b[0m            \u001b[39m'\u001b[39m\u001b[39mcould not\u001b[39m\u001b[39m\\n\u001b[39;00m\u001b[39mbe used (\u001b[39m\u001b[39m\"\u001b[39m\u001b[39m%s\u001b[39;00m\u001b[39m\"\u001b[39m\u001b[39m). \u001b[39m\u001b[39m\\n\u001b[39;00m\u001b[39mNote that running \u001b[39m\u001b[39m'\u001b[39m\n\u001b[1;32m    245\u001b[0m            \u001b[39m'\u001b[39m\u001b[39mmultiple GUI toolkits simultaneously can cause \u001b[39m\u001b[39m'\u001b[39m\n\u001b[1;32m    246\u001b[0m            \u001b[39m'\u001b[39m\u001b[39mside effects.\u001b[39m\u001b[39m'\u001b[39m \u001b[39m%\u001b[39m\n\u001b[1;32m    247\u001b[0m            (native_module_name, name, \u001b[39mstr\u001b[39m(mod\u001b[39m.\u001b[39mwhy_not)))\n",
      "\u001b[0;31mRuntimeError\u001b[0m: Could not import backend \"jupyter_rfb\":\nThe jupyter_rfb backend relies on a the jupyter_rfb library: ``pip install jupyter_rfb``"
     ]
    }
   ],
   "source": [
    "sim.plot3D()"
   ]
  }
 ],
 "metadata": {
  "kernelspec": {
   "display_name": "mp",
   "language": "python",
   "name": "python3"
  },
  "language_info": {
   "codemirror_mode": {
    "name": "ipython",
    "version": 3
   },
   "file_extension": ".py",
   "mimetype": "text/x-python",
   "name": "python",
   "nbconvert_exporter": "python",
   "pygments_lexer": "ipython3",
   "version": "3.11.4"
  },
  "orig_nbformat": 4
 },
 "nbformat": 4,
 "nbformat_minor": 2
}
