{
 "cells": [
  {
   "cell_type": "code",
   "execution_count": null,
   "metadata": {},
   "outputs": [],
   "source": [
    "import meep as mp\n",
    "import vispy\n",
    "\n",
    "# Simulation cell size\n",
    "cell_size = mp.Vector3(8, 8, 0)  \n",
    "\n",
    "# PEC properties\n",
    "pec_conductivity = 1e7  # high conductivity for PEC\n",
    "pec = mp.Medium(epsilon=1, D_conductivity=pec_conductivity)  # PEC medium\n",
    "\n",
    "# PEC object_2D\n",
    "object_2D = mp.Cylinder(radius=5, material=pec)\n",
    "object_2D = mp.Block(mp.Vector3(8, 8, mp.inf), center=mp.Vector3(), material=pec)\n",
    "\n",
    "\n",
    "# Source\n",
    "frequency = 2.4e9  # 2.4 GHz\n",
    "src = [mp.Source(mp.ContinuousSource(frequency=frequency),\n",
    "                 component=mp.Ex,\n",
    "                 center=mp.Vector3(0, 0, 0))]\n",
    "\n",
    "# Simulation\n",
    "sim = mp.Simulation(\n",
    "    cell_size  = cell_size,\n",
    "    geometry   = [object_2D],\n",
    "    sources    = src,\n",
    "    resolution = 32\n",
    ")\n",
    "\n",
    "# Run simulation for a time to reach steady state\n",
    "sim.run(until=200)\n",
    "sim.plot3D()"
   ]
  },
  {
   "cell_type": "code",
   "execution_count": 2,
   "metadata": {},
   "outputs": [
    {
     "ename": "ModuleNotFoundError",
     "evalue": "No module named 'vispy'",
     "output_type": "error",
     "traceback": [
      "\u001b[0;31m---------------------------------------------------------------------------\u001b[0m",
      "\u001b[0;31mModuleNotFoundError\u001b[0m                       Traceback (most recent call last)",
      "Cell \u001b[0;32mIn[2], line 1\u001b[0m\n\u001b[0;32m----> 1\u001b[0m sim\u001b[39m.\u001b[39;49mplot3D()\n",
      "File \u001b[0;32m/opt/anaconda3/envs/mp/lib/python3.11/site-packages/meep/simulation.py:4908\u001b[0m, in \u001b[0;36mSimulation.plot3D\u001b[0;34m(self, save_to_image, image_name, **kwargs)\u001b[0m\n\u001b[1;32m   4893\u001b[0m \u001b[39m\u001b[39m\u001b[39m\"\"\"\u001b[39;00m\n\u001b[1;32m   4894\u001b[0m \u001b[39mUses vispy to render a 3D scene of the simulation object. The simulation object must be 3D.\u001b[39;00m\n\u001b[1;32m   4895\u001b[0m \u001b[39mCan also be embedded in Jupyter notebooks.\u001b[39;00m\n\u001b[0;32m   (...)\u001b[0m\n\u001b[1;32m   4904\u001b[0m \u001b[39m    elevation: float, elevation angle in degrees\u001b[39;00m\n\u001b[1;32m   4905\u001b[0m \u001b[39m\"\"\"\u001b[39;00m\n\u001b[1;32m   4906\u001b[0m \u001b[39mimport\u001b[39;00m \u001b[39mmeep\u001b[39;00m\u001b[39m.\u001b[39;00m\u001b[39mvisualization\u001b[39;00m \u001b[39mas\u001b[39;00m \u001b[39mvis\u001b[39;00m\n\u001b[0;32m-> 4908\u001b[0m \u001b[39mreturn\u001b[39;00m vis\u001b[39m.\u001b[39;49mplot3D(\u001b[39mself\u001b[39;49m, save_to_image, image_name, \u001b[39m*\u001b[39;49m\u001b[39m*\u001b[39;49mkwargs)\n",
      "File \u001b[0;32m/opt/anaconda3/envs/mp/lib/python3.11/site-packages/meep/visualization.py:997\u001b[0m, in \u001b[0;36mplot3D\u001b[0;34m(sim, save_to_image, image_name, **kwargs)\u001b[0m\n\u001b[1;32m    996\u001b[0m \u001b[39mdef\u001b[39;00m \u001b[39mplot3D\u001b[39m(sim, save_to_image: \u001b[39mbool\u001b[39m \u001b[39m=\u001b[39m \u001b[39mFalse\u001b[39;00m, image_name: \u001b[39mstr\u001b[39m \u001b[39m=\u001b[39m \u001b[39m\"\u001b[39m\u001b[39msim.png\u001b[39m\u001b[39m\"\u001b[39m, \u001b[39m*\u001b[39m\u001b[39m*\u001b[39mkwargs):\n\u001b[0;32m--> 997\u001b[0m     \u001b[39mfrom\u001b[39;00m \u001b[39mvispy\u001b[39;00m\u001b[39m.\u001b[39;00m\u001b[39mscene\u001b[39;00m\u001b[39m.\u001b[39;00m\u001b[39mvisuals\u001b[39;00m \u001b[39mimport\u001b[39;00m Box, Mesh\n\u001b[1;32m    998\u001b[0m     \u001b[39mfrom\u001b[39;00m \u001b[39mvispy\u001b[39;00m\u001b[39m.\u001b[39;00m\u001b[39mscene\u001b[39;00m \u001b[39mimport\u001b[39;00m SceneCanvas, transforms\n\u001b[1;32m   1000\u001b[0m     \u001b[39mtry\u001b[39;00m:\n",
      "\u001b[0;31mModuleNotFoundError\u001b[0m: No module named 'vispy'"
     ]
    }
   ],
   "source": []
  }
 ],
 "metadata": {
  "kernelspec": {
   "display_name": "mp",
   "language": "python",
   "name": "python3"
  },
  "language_info": {
   "codemirror_mode": {
    "name": "ipython",
    "version": 3
   },
   "file_extension": ".py",
   "mimetype": "text/x-python",
   "name": "python",
   "nbconvert_exporter": "python",
   "pygments_lexer": "ipython3",
   "version": "3.11.4"
  },
  "orig_nbformat": 4
 },
 "nbformat": 4,
 "nbformat_minor": 2
}
